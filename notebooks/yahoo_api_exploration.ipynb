{
 "cells": [
  {
   "cell_type": "code",
   "execution_count": 0,
   "metadata": {
    "application/vnd.databricks.v1+cell": {
     "cellMetadata": {
      "byteLimit": 2048000,
      "rowLimit": 10000
     },
     "inputWidgets": {},
     "nuid": "671cde50-53ce-4d2e-a709-faff6b8142be",
     "showTitle": false,
     "tableResultSettingsMap": {},
     "title": ""
    }
   },
   "outputs": [],
   "source": [
    "import os\n",
    "import requests\n",
    "import json\n",
    "import yfinance as yf\n",
    "import pandas as pd\n",
    "from datetime import date\n",
    "\n",
    "from pyspark.sql import functions as F\n",
    "from pyspark.sql import SparkSession\n",
    "from pyspark.sql.functions import array, explode, col, from_unixtime, lit, map_from_arrays"
   ]
  },
  {
   "cell_type": "code",
   "execution_count": 0,
   "metadata": {
    "application/vnd.databricks.v1+cell": {
     "cellMetadata": {
      "byteLimit": 2048000,
      "rowLimit": 10000
     },
     "inputWidgets": {},
     "nuid": "bd21e254-e936-46a5-8b6e-fc39bcd97e43",
     "showTitle": false,
     "tableResultSettingsMap": {},
     "title": ""
    }
   },
   "outputs": [],
   "source": [
    "%fs ls dbfs:/FileStore/bronze/yahoo"
   ]
  },
  {
   "cell_type": "code",
   "execution_count": 0,
   "metadata": {
    "application/vnd.databricks.v1+cell": {
     "cellMetadata": {
      "byteLimit": 2048000,
      "rowLimit": 10000
     },
     "inputWidgets": {},
     "nuid": "c63f8b97-689b-418b-8003-a408ffa9edb1",
     "showTitle": false,
     "tableResultSettingsMap": {},
     "title": ""
    }
   },
   "outputs": [],
   "source": [
    "bronze_root_path = \"/dbfs/FileStore/bronze/yahoo\"\n",
    "silver_root_path = \"/dbfs/FileStore/silver/yahoo\"\n",
    "spark_bronze_root_path = \"dbfs:/FileStore/bronze/yahoo\"\n",
    "spark_silver_root_path = \"dbfs:/FileStore/silver/yahoo\"\n",
    "my_portfolio = ('GOOG', 'SOPH', 'PYPL', 'NOV', 'KRN', 'AMZN', 'NVDA', 'SQN', 'TGT')"
   ]
  },
  {
   "cell_type": "code",
   "execution_count": 0,
   "metadata": {
    "application/vnd.databricks.v1+cell": {
     "cellMetadata": {
      "byteLimit": 2048000,
      "rowLimit": 10000
     },
     "inputWidgets": {},
     "nuid": "715a095f-0e5f-42d2-bbc5-7c7b5c8e03c7",
     "showTitle": false,
     "tableResultSettingsMap": {},
     "title": ""
    }
   },
   "outputs": [],
   "source": [
    "def get_raw_yahoo_financial_statements(src_root_path, ticker):\n",
    "    try:\n",
    "        current_ticker = yf.Ticker(ticker)\n",
    "        today = date.today()\n",
    "        current_ticker.get_balance_sheet().to_json(f'{src_root_path}/{ticker}_balance_sheet_{date.today()}.json')\n",
    "        current_ticker.get_income_stmt().to_json(f'{src_root_path}/{ticker}_income_stmt_sheet_{date.today()}.json')\n",
    "        current_ticker.get_cashflow().to_json(f'{src_root_path}/{ticker}_cashflow_{date.today()}.json')\n",
    "\n",
    "    except (requests.ConnectionError, requests.Timeout) as e:\n",
    "        print(f\"Connection error for {ticker}: {e}\")\n",
    "    except Exception as e:\n",
    "        print(f\"Unexpected error for {ticker}: {e}\")\n"
   ]
  },
  {
   "cell_type": "code",
   "execution_count": 0,
   "metadata": {
    "application/vnd.databricks.v1+cell": {
     "cellMetadata": {
      "byteLimit": 2048000,
      "rowLimit": 10000
     },
     "inputWidgets": {},
     "nuid": "7487c16c-c36d-4023-a823-d70653b04a13",
     "showTitle": false,
     "tableResultSettingsMap": {},
     "title": ""
    }
   },
   "outputs": [],
   "source": [
    "for stock in my_portfolio:\n",
    "    print(f'processing stock {stock}')\n",
    "    get_raw_yahoo_financial_statements(bronze_root_path, stock)"
   ]
  },
  {
   "cell_type": "code",
   "execution_count": 0,
   "metadata": {
    "application/vnd.databricks.v1+cell": {
     "cellMetadata": {
      "byteLimit": 2048000,
      "rowLimit": 10000
     },
     "inputWidgets": {},
     "nuid": "d8c0faff-d24c-4981-bdbf-6def11b6333c",
     "showTitle": false,
     "tableResultSettingsMap": {},
     "title": ""
    }
   },
   "outputs": [],
   "source": [
    "def unpivot_income_statement_pyspark():\n",
    "    files_path_to_unpivot = [f'{spark_bronze_root_path}/{f}' for f in os.listdir(bronze_root_path) if f.endswith('.json')]\n",
    "    for file_name in files_path_to_unpivot:\n",
    "        print(f'processing file {file_name} from bronze -> silver')\n",
    "        spark_df = spark.read.option('multiline', 'true').json(file_name)"
   ]
  },
  {
   "cell_type": "code",
   "execution_count": 0,
   "metadata": {
    "application/vnd.databricks.v1+cell": {
     "cellMetadata": {
      "byteLimit": 2048000,
      "rowLimit": 10000
     },
     "inputWidgets": {},
     "nuid": "e02fe8da-62cc-4cf2-82bd-60a1bc322c0d",
     "showTitle": false,
     "tableResultSettingsMap": {},
     "title": ""
    }
   },
   "outputs": [],
   "source": [
    "unpivot_income_statement_pyspark()"
   ]
  },
  {
   "cell_type": "code",
   "execution_count": 0,
   "metadata": {
    "application/vnd.databricks.v1+cell": {
     "cellMetadata": {
      "byteLimit": 2048000,
      "rowLimit": 10000
     },
     "inputWidgets": {},
     "nuid": "6a9cf1ba-8c6f-48ca-bdc4-035f6ef63b6f",
     "showTitle": false,
     "tableResultSettingsMap": {},
     "title": ""
    }
   },
   "outputs": [],
   "source": [
    "raw_df = bspark.read.option(\"multiline\", \"true\").json('dbfs:/FileStore/bronze/yahoo/AMZN_balance_sheet_2025-10-15.json')"
   ]
  },
  {
   "cell_type": "code",
   "execution_count": 0,
   "metadata": {
    "application/vnd.databricks.v1+cell": {
     "cellMetadata": {
      "byteLimit": 2048000,
      "rowLimit": 10000
     },
     "inputWidgets": {},
     "nuid": "94ca5de8-fb54-4671-8b6c-66404b8bd24c",
     "showTitle": false,
     "tableResultSettingsMap": {},
     "title": ""
    }
   },
   "outputs": [],
   "source": [
    "cols = raw_df.columns\n",
    "m = raw_df.select(map_from_arrays(\n",
    "    array(*[lit(c) for c in cols]),\n",
    "    array(*[col(c) for c in cols])\n",
    "  ).alias(\"m\")\n",
    ")\n",
    "kv = m.selectExpr(\"explode(m) as (unix_ms, data)\")\n",
    "\n",
    "# 3) Convert ms -> timestamp and flatten inner struct\n",
    "df = kv.select(\n",
    "    from_unixtime((col(\"unix_ms\").cast(\"bigint\")/1000)).alias(\"date_time\"),\n",
    "    col(\"data.*\")\n",
    ")\n",
    "\n",
    "df.show(5, truncate=False)"
   ]
  },
  {
   "cell_type": "code",
   "execution_count": 0,
   "metadata": {
    "application/vnd.databricks.v1+cell": {
     "cellMetadata": {
      "byteLimit": 2048000,
      "rowLimit": 10000
     },
     "inputWidgets": {},
     "nuid": "80cc5330-d4a0-4ed5-b4b0-60ceaf5644c8",
     "showTitle": false,
     "tableResultSettingsMap": {},
     "title": ""
    }
   },
   "outputs": [],
   "source": [
    "spark.read.json('dbfs:/FileStore/bronze/yahoo/AMZN_balance_sheet_2025-10-15.json').show()"
   ]
  },
  {
   "cell_type": "code",
   "execution_count": 0,
   "metadata": {
    "application/vnd.databricks.v1+cell": {
     "cellMetadata": {
      "byteLimit": 2048000,
      "rowLimit": 10000
     },
     "inputWidgets": {},
     "nuid": "7f47f582-54e8-459e-b6c1-7bb86265f066",
     "showTitle": false,
     "tableResultSettingsMap": {},
     "title": ""
    }
   },
   "outputs": [],
   "source": [
    "with open('/dbfs/FileStore/bronze/yahoo/AMZN_balance_sheet_2025-10-15.json', 'r') as file:\n",
    "    data = json.load(file)\n",
    "    print(data.get('1735603200000'))"
   ]
  },
  {
   "cell_type": "code",
   "execution_count": 0,
   "metadata": {
    "application/vnd.databricks.v1+cell": {
     "cellMetadata": {
      "byteLimit": 2048000,
      "rowLimit": 10000
     },
     "inputWidgets": {},
     "nuid": "af06ffc1-d847-4a68-8549-04939285118b",
     "showTitle": false,
     "tableResultSettingsMap": {},
     "title": ""
    }
   },
   "outputs": [],
   "source": [
    "# usage of spark tables to stores\n",
    "def unpivot_income_statement(bronze_path):\n",
    "    files_path_to_unpivot = [f for f in os.listdir(bronze_path) if f.endswith('.json')]\n",
    "    for file in files_path_to_unpivot:\n",
    "        print(f'processing file {file} from bronze -> silver')\n",
    "        df = pd.read_json(f'{bronze_root_path}/{file}')\n",
    "        unpivoted = df.\\\n",
    "            reset_index().\\\n",
    "            melt(id_vars='index', var_name='date', value_name='value').\\\n",
    "            rename(columns={'index':'metric'})\n",
    "        unpivoted.to"
   ]
  },
  {
   "cell_type": "code",
   "execution_count": 0,
   "metadata": {
    "application/vnd.databricks.v1+cell": {
     "cellMetadata": {
      "byteLimit": 2048000,
      "rowLimit": 10000
     },
     "inputWidgets": {},
     "nuid": "1a4550eb-27bb-448e-81ea-fe301ff59cb2",
     "showTitle": false,
     "tableResultSettingsMap": {},
     "title": ""
    }
   },
   "outputs": [],
   "source": [
    "unpivot_income_statement(bronze_root_path)"
   ]
  },
  {
   "cell_type": "code",
   "execution_count": 0,
   "metadata": {
    "application/vnd.databricks.v1+cell": {
     "cellMetadata": {
      "byteLimit": 2048000,
      "rowLimit": 10000
     },
     "inputWidgets": {},
     "nuid": "8041735c-1c4a-4235-8a3f-5f657271f73b",
     "showTitle": false,
     "tableResultSettingsMap": {},
     "title": ""
    }
   },
   "outputs": [],
   "source": [
    "unpivot_income_statement = income_statement.\\\n",
    "    reset_index().\\\n",
    "    melt(id_vars='index', var_name='date', value_name='value').\\\n",
    "    rename(columns={'index':'metric'})"
   ]
  },
  {
   "cell_type": "code",
   "execution_count": 0,
   "metadata": {
    "application/vnd.databricks.v1+cell": {
     "cellMetadata": {
      "byteLimit": 2048000,
      "rowLimit": 10000
     },
     "inputWidgets": {},
     "nuid": "0844242b-672a-4b46-a109-20b744c98e50",
     "showTitle": false,
     "tableResultSettingsMap": {
      "0": {
       "dataGridStateBlob": "{\"version\":1,\"tableState\":{\"columnPinning\":{\"left\":[\"#row_number#\"],\"right\":[]},\"columnSizing\":{\"path\":206},\"columnVisibility\":{}},\"settings\":{\"columns\":{}},\"syncTimestamp\":1760527927306}",
       "filterBlob": null,
       "queryPlanFiltersBlob": null,
       "tableResultIndex": 0
      }
     },
     "title": ""
    }
   },
   "outputs": [],
   "source": [
    "%fs ls \"dbfs:/FileStore/bronze/yahoo\""
   ]
  }
 ],
 "metadata": {
  "application/vnd.databricks.v1+notebook": {
   "computePreferences": null,
   "dashboards": [],
   "environmentMetadata": null,
   "inputWidgetPreferences": null,
   "language": "python",
   "notebookMetadata": {
    "mostRecentlyExecutedCommandWithImplicitDF": {
     "commandId": 5117293961394131,
     "dataframes": [
      "_sqldf"
     ]
    },
    "pythonIndentUnit": 4
   },
   "notebookName": "yahoo_api_exploration",
   "widgets": {}
  },
  "kernelspec": {
   "display_name": "yahoo_env",
   "language": "python",
   "name": "python3"
  },
  "language_info": {
   "name": "python"
  }
 },
 "nbformat": 4,
 "nbformat_minor": 0
}
