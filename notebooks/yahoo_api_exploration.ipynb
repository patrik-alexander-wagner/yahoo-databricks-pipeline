{
 "cells": [
  {
   "cell_type": "code",
   "execution_count": null,
   "id": "2c396862",
   "metadata": {},
   "outputs": [],
   "source": [
    "import yfinance as yf\n",
    "import pandas as pd\n",
    "from datetime import date"
   ]
  },
  {
   "cell_type": "code",
   "execution_count": null,
   "id": "faff4663",
   "metadata": {},
   "outputs": [],
   "source": [
    "def get_raw_yahoo_financial_statements(src_root_path, ticker):\n",
    "    current_ticker = yf.Ticker(ticker)\n",
    "    current_ticker.get_balance_sheet().to_json(f'{src_root_path}/bronze/{ticker}_balance_sheet_{date.today()}.json')\n",
    "    current_ticker.get_income_stmt().to_json(f'{src_root_path}/bronze/{ticker}_income_stmt_sheet_{date.today()}.json')\n",
    "    current_ticker.get_cashflow().to_json(f'{src_root_path}/bronze/{ticker}_cashflow_{date.today()}.json')\n"
   ]
  },
  {
   "cell_type": "code",
   "execution_count": 121,
   "id": "856411b3",
   "metadata": {},
   "outputs": [],
   "source": [
    "unpivot_income_statement = income_statement.\\\n",
    "    reset_index().\\\n",
    "    melt(id_vars='index', var_name='date', value_name='value').\\\n",
    "    rename(columns={'index':'metric'})"
   ]
  }
 ],
 "metadata": {
  "kernelspec": {
   "display_name": "yahoo_env",
   "language": "python",
   "name": "python3"
  },
  "language_info": {
   "codemirror_mode": {
    "name": "ipython",
    "version": 3
   },
   "file_extension": ".py",
   "mimetype": "text/x-python",
   "name": "python",
   "nbconvert_exporter": "python",
   "pygments_lexer": "ipython3",
   "version": "3.10.9"
  }
 },
 "nbformat": 4,
 "nbformat_minor": 5
}
