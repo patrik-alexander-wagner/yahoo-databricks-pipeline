{
 "cells": [
  {
   "cell_type": "code",
   "execution_count": 125,
   "id": "2c396862",
   "metadata": {},
   "outputs": [],
   "source": [
    "import yfinance as yf\n",
    "import pandas as pd"
   ]
  },
  {
   "cell_type": "code",
   "execution_count": 24,
   "id": "fcb58d04",
   "metadata": {},
   "outputs": [],
   "source": [
    "stz_ticker = yf.Ticker('STZ')"
   ]
  },
  {
   "cell_type": "code",
   "execution_count": 90,
   "id": "a29c87c4",
   "metadata": {},
   "outputs": [],
   "source": [
    "income_statement = stz_ticker.get_income_stmt()"
   ]
  },
  {
   "cell_type": "code",
   "execution_count": 132,
   "id": "6c29dafd",
   "metadata": {},
   "outputs": [],
   "source": [
    "def get_bronze_tables(ticker, financial_statement_report):\n",
    "    current_ticker = yf.Ticker(ticker)\n",
    "    if financial_statement_report == 'bs':\n",
    "        return current_ticker.get_balance_sheet()\n",
    "    elif financial_statement_report == 'pl':\n",
    "        return current_ticker.get_income_stmt()\n",
    "    elif financial_statement_report == 'cf':\n",
    "        return current_ticker.get_cashflow()\n",
    "    else: return None"
   ]
  },
  {
   "cell_type": "code",
   "execution_count": null,
   "id": "faff4663",
   "metadata": {},
   "outputs": [],
   "source": [
    "def get_raw_yahoo_financial_statements(ticker):\n",
    "    "
   ]
  },
  {
   "cell_type": "code",
   "execution_count": 121,
   "id": "856411b3",
   "metadata": {},
   "outputs": [],
   "source": [
    "unpivot_income_statement = income_statement.\\\n",
    "    reset_index().\\\n",
    "    melt(id_vars='index', var_name='date', value_name='value').\\\n",
    "    rename(columns={'index':'metric'})"
   ]
  },
  {
   "cell_type": "code",
   "execution_count": 124,
   "id": "3281cf34",
   "metadata": {},
   "outputs": [],
   "source": [
    "unpivot_income_statement['date'] =  pd.to_datetime(unpivot_income_statement['date'])"
   ]
  },
  {
   "cell_type": "code",
   "execution_count": 128,
   "id": "0f29545a",
   "metadata": {},
   "outputs": [],
   "source": [
    "unpivot_income_statement['value'] = unpivot_income_statement['value'].round(0)"
   ]
  },
  {
   "cell_type": "code",
   "execution_count": 129,
   "id": "51b89ba4",
   "metadata": {},
   "outputs": [
    {
     "data": {
      "text/html": [
       "<div>\n",
       "<style scoped>\n",
       "    .dataframe tbody tr th:only-of-type {\n",
       "        vertical-align: middle;\n",
       "    }\n",
       "\n",
       "    .dataframe tbody tr th {\n",
       "        vertical-align: top;\n",
       "    }\n",
       "\n",
       "    .dataframe thead th {\n",
       "        text-align: right;\n",
       "    }\n",
       "</style>\n",
       "<table border=\"1\" class=\"dataframe\">\n",
       "  <thead>\n",
       "    <tr style=\"text-align: right;\">\n",
       "      <th></th>\n",
       "      <th>metric</th>\n",
       "      <th>date</th>\n",
       "      <th>value</th>\n",
       "    </tr>\n",
       "  </thead>\n",
       "  <tbody>\n",
       "    <tr>\n",
       "      <th>0</th>\n",
       "      <td>TaxEffectOfUnusualItems</td>\n",
       "      <td>2025-02-28</td>\n",
       "      <td>-6.424110e+08</td>\n",
       "    </tr>\n",
       "    <tr>\n",
       "      <th>1</th>\n",
       "      <td>TaxRateForCalcs</td>\n",
       "      <td>2025-02-28</td>\n",
       "      <td>0.000000e+00</td>\n",
       "    </tr>\n",
       "    <tr>\n",
       "      <th>2</th>\n",
       "      <td>NormalizedEBITDA</td>\n",
       "      <td>2025-02-28</td>\n",
       "      <td>3.833400e+09</td>\n",
       "    </tr>\n",
       "    <tr>\n",
       "      <th>3</th>\n",
       "      <td>TotalUnusualItems</td>\n",
       "      <td>2025-02-28</td>\n",
       "      <td>-3.059100e+09</td>\n",
       "    </tr>\n",
       "    <tr>\n",
       "      <th>4</th>\n",
       "      <td>TotalUnusualItemsExcludingGoodwill</td>\n",
       "      <td>2025-02-28</td>\n",
       "      <td>-3.059100e+09</td>\n",
       "    </tr>\n",
       "    <tr>\n",
       "      <th>...</th>\n",
       "      <td>...</td>\n",
       "      <td>...</td>\n",
       "      <td>...</td>\n",
       "    </tr>\n",
       "    <tr>\n",
       "      <th>230</th>\n",
       "      <td>GrossProfit</td>\n",
       "      <td>2021-02-28</td>\n",
       "      <td>NaN</td>\n",
       "    </tr>\n",
       "    <tr>\n",
       "      <th>231</th>\n",
       "      <td>CostOfRevenue</td>\n",
       "      <td>2021-02-28</td>\n",
       "      <td>NaN</td>\n",
       "    </tr>\n",
       "    <tr>\n",
       "      <th>232</th>\n",
       "      <td>TotalRevenue</td>\n",
       "      <td>2021-02-28</td>\n",
       "      <td>NaN</td>\n",
       "    </tr>\n",
       "    <tr>\n",
       "      <th>233</th>\n",
       "      <td>ExciseTaxes</td>\n",
       "      <td>2021-02-28</td>\n",
       "      <td>NaN</td>\n",
       "    </tr>\n",
       "    <tr>\n",
       "      <th>234</th>\n",
       "      <td>OperatingRevenue</td>\n",
       "      <td>2021-02-28</td>\n",
       "      <td>NaN</td>\n",
       "    </tr>\n",
       "  </tbody>\n",
       "</table>\n",
       "<p>235 rows × 3 columns</p>\n",
       "</div>"
      ],
      "text/plain": [
       "                                 metric       date         value\n",
       "0               TaxEffectOfUnusualItems 2025-02-28 -6.424110e+08\n",
       "1                       TaxRateForCalcs 2025-02-28  0.000000e+00\n",
       "2                      NormalizedEBITDA 2025-02-28  3.833400e+09\n",
       "3                     TotalUnusualItems 2025-02-28 -3.059100e+09\n",
       "4    TotalUnusualItemsExcludingGoodwill 2025-02-28 -3.059100e+09\n",
       "..                                  ...        ...           ...\n",
       "230                         GrossProfit 2021-02-28           NaN\n",
       "231                       CostOfRevenue 2021-02-28           NaN\n",
       "232                        TotalRevenue 2021-02-28           NaN\n",
       "233                         ExciseTaxes 2021-02-28           NaN\n",
       "234                    OperatingRevenue 2021-02-28           NaN\n",
       "\n",
       "[235 rows x 3 columns]"
      ]
     },
     "execution_count": 129,
     "metadata": {},
     "output_type": "execute_result"
    }
   ],
   "source": [
    "unpivot_income_statement"
   ]
  }
 ],
 "metadata": {
  "kernelspec": {
   "display_name": "Python 3",
   "language": "python",
   "name": "python3"
  },
  "language_info": {
   "codemirror_mode": {
    "name": "ipython",
    "version": 3
   },
   "file_extension": ".py",
   "mimetype": "text/x-python",
   "name": "python",
   "nbconvert_exporter": "python",
   "pygments_lexer": "ipython3",
   "version": "3.10.9"
  }
 },
 "nbformat": 4,
 "nbformat_minor": 5
}
