{
 "cells": [
  {
   "cell_type": "code",
   "execution_count": 1,
   "metadata": {
    "application/vnd.databricks.v1+cell": {
     "cellMetadata": {
      "byteLimit": 2048000,
      "rowLimit": 10000
     },
     "inputWidgets": {},
     "nuid": "671cde50-53ce-4d2e-a709-faff6b8142be",
     "showTitle": false,
     "tableResultSettingsMap": {},
     "title": ""
    }
   },
   "outputs": [],
   "source": [
    "import os\n",
    "import requests\n",
    "import json\n",
    "import yfinance as yf\n",
    "import pandas as pd\n",
    "from datetime import date\n",
    "\n",
    "from pyspark.sql import SparkSession\n",
    "from pyspark.sql import functions as F\n",
    "from pyspark.sql import SparkSession\n",
    "from pyspark.sql.functions import array, explode, col, from_unixtime, lit, map_from_arrays"
   ]
  },
  {
   "cell_type": "code",
   "execution_count": 2,
   "metadata": {},
   "outputs": [],
   "source": [
    "import sys, os\n",
    "# Point Spark to this exact Python\n",
    "os.environ[\"PYSPARK_PYTHON\"] = sys.executable\n",
    "os.environ[\"PYSPARK_DRIVER_PYTHON\"] = sys.executable"
   ]
  },
  {
   "cell_type": "code",
   "execution_count": 3,
   "metadata": {},
   "outputs": [],
   "source": [
    "spark = (SparkSession.builder\n",
    "         .master(\"local[*]\")\n",
    "         .appName(\"LocalPySpark\")\n",
    "         .config(\"spark.pyspark.python\", sys.executable)\n",
    "         .config(\"spark.pyspark.driver.python\", sys.executable)\n",
    "         .getOrCreate())"
   ]
  },
  {
   "cell_type": "code",
   "execution_count": 4,
   "metadata": {},
   "outputs": [],
   "source": [
    "local_root = r\"C:\\Users\\alexa\\OneDrive\\Bureau\\Data Engineering\\Yahoo DataBricks Pipeline\"\n",
    "db_root_python = \"/dbfs\"\n",
    "db_root_spark = \"dbfs:\""
   ]
  },
  {
   "cell_type": "code",
   "execution_count": 7,
   "metadata": {
    "application/vnd.databricks.v1+cell": {
     "cellMetadata": {
      "byteLimit": 2048000,
      "rowLimit": 10000
     },
     "inputWidgets": {},
     "nuid": "c63f8b97-689b-418b-8003-a408ffa9edb1",
     "showTitle": false,
     "tableResultSettingsMap": {},
     "title": ""
    }
   },
   "outputs": [],
   "source": [
    "bronze_path = \"/FileStore/bronze/yahoo\"\n",
    "silver_path = \"/FileStore/silver/yahoo\"\n",
    "my_portfolio = ('GOOG', 'SOPH', 'PYPL', 'NOV', 'KRN', 'AMZN', 'NVDA', 'SQN', 'TGT')"
   ]
  },
  {
   "cell_type": "code",
   "execution_count": 8,
   "metadata": {
    "application/vnd.databricks.v1+cell": {
     "cellMetadata": {
      "byteLimit": 2048000,
      "rowLimit": 10000
     },
     "inputWidgets": {},
     "nuid": "8041735c-1c4a-4235-8a3f-5f657271f73b",
     "showTitle": false,
     "tableResultSettingsMap": {},
     "title": ""
    }
   },
   "outputs": [],
   "source": [
    "def unpivot_pandas_statement(ticker, statement):\n",
    "    temp = statement.\\\n",
    "    reset_index().\\\n",
    "    melt(id_vars='index', var_name='date', value_name='value').\\\n",
    "    rename(columns={'index':'metric'})\n",
    "    temp['ticker'] = ticker\n",
    "    return temp"
   ]
  },
  {
   "cell_type": "code",
   "execution_count": 24,
   "metadata": {
    "application/vnd.databricks.v1+cell": {
     "cellMetadata": {
      "byteLimit": 2048000,
      "rowLimit": 10000
     },
     "inputWidgets": {},
     "nuid": "715a095f-0e5f-42d2-bbc5-7c7b5c8e03c7",
     "showTitle": false,
     "tableResultSettingsMap": {},
     "title": ""
    }
   },
   "outputs": [],
   "source": [
    "def get_raw_yahoo_financial_statements(src_root_path, ticker):\n",
    "    try:\n",
    "        current_ticker = yf.Ticker(ticker)\n",
    "        unpivot_pandas_statement(ticker, current_ticker.get_balance_sheet()).\\\n",
    "            to_json(f'{src_root_path}/{ticker}_balance_sheet_{date.today()}.json', orient='records')\n",
    "        unpivot_pandas_statement(ticker, current_ticker.get_income_stmt())\\\n",
    "            .to_json(f'{src_root_path}/{ticker}_income_stmt_sheet_{date.today()}.json', orient='records')\n",
    "        unpivot_pandas_statement(ticker, current_ticker.get_cashflow()).\\\n",
    "            to_json(f'{src_root_path}/{ticker}_cashflow_{date.today()}.json', orient='records')\n",
    "\n",
    "    except (requests.ConnectionError, requests.Timeout) as e:\n",
    "        print(f\"Connection error for {ticker}: {e}\")\n",
    "    except Exception as e:\n",
    "        print(f\"Unexpected error for {ticker}: {e}\")\n"
   ]
  },
  {
   "cell_type": "code",
   "execution_count": 25,
   "metadata": {
    "application/vnd.databricks.v1+cell": {
     "cellMetadata": {
      "byteLimit": 2048000,
      "rowLimit": 10000
     },
     "inputWidgets": {},
     "nuid": "7487c16c-c36d-4023-a823-d70653b04a13",
     "showTitle": false,
     "tableResultSettingsMap": {},
     "title": ""
    }
   },
   "outputs": [
    {
     "name": "stdout",
     "output_type": "stream",
     "text": [
      "processing stock GOOG\n",
      "processing stock SOPH\n",
      "processing stock PYPL\n",
      "processing stock NOV\n",
      "processing stock KRN\n",
      "processing stock AMZN\n",
      "processing stock NVDA\n",
      "processing stock SQN\n",
      "processing stock TGT\n"
     ]
    }
   ],
   "source": [
    "for stock in my_portfolio:\n",
    "    print(f'processing stock {stock}')\n",
    "    get_raw_yahoo_financial_statements(local_root+bronze_path, stock)"
   ]
  },
  {
   "cell_type": "code",
   "execution_count": 26,
   "metadata": {
    "application/vnd.databricks.v1+cell": {
     "cellMetadata": {
      "byteLimit": 2048000,
      "rowLimit": 10000
     },
     "inputWidgets": {},
     "nuid": "6a9cf1ba-8c6f-48ca-bdc4-035f6ef63b6f",
     "showTitle": false,
     "tableResultSettingsMap": {},
     "title": ""
    }
   },
   "outputs": [],
   "source": [
    "raw_df = spark.read.option(\"multiline\", \"true\").json(f'{local_root}{bronze_path}/AMZN_balance_sheet_2025-10-17.json')"
   ]
  },
  {
   "cell_type": "code",
   "execution_count": 29,
   "metadata": {},
   "outputs": [
    {
     "name": "stdout",
     "output_type": "stream",
     "text": [
      "+-------------+--------------------+------+----------+\n",
      "|         date|              metric|ticker|     value|\n",
      "+-------------+--------------------+------+----------+\n",
      "|1735603200000|TreasurySharesNumber|  AMZN|    5.15E8|\n",
      "|1735603200000|OrdinarySharesNumber|  AMZN| 1.0593E10|\n",
      "|1735603200000|         ShareIssued|  AMZN| 1.1108E10|\n",
      "|1735603200000|             NetDebt|  AMZN|      NULL|\n",
      "|1735603200000|           TotalDebt|  AMZN|  1.309E11|\n",
      "|1735603200000|   TangibleBookValue|  AMZN|2.54294E11|\n",
      "|1735603200000|     InvestedCapital|  AMZN|3.38593E11|\n",
      "|1735603200000|      WorkingCapital|  AMZN| 1.1436E10|\n",
      "|1735603200000|   NetTangibleAssets|  AMZN|2.54294E11|\n",
      "|1735603200000|CapitalLeaseOblig...|  AMZN| 7.8277E10|\n",
      "|1735603200000|   CommonStockEquity|  AMZN| 2.8597E11|\n",
      "|1735603200000| TotalCapitalization|  AMZN|3.38593E11|\n",
      "|1735603200000|TotalEquityGrossM...|  AMZN| 2.8597E11|\n",
      "|1735603200000|  StockholdersEquity|  AMZN| 2.8597E11|\n",
      "|1735603200000|GainsLossesNotAff...|  AMZN|    -3.4E7|\n",
      "|1735603200000|OtherEquityAdjust...|  AMZN|    -3.4E7|\n",
      "|1735603200000|       TreasuryStock|  AMZN|   7.837E9|\n",
      "|1735603200000|    RetainedEarnings|  AMZN|1.72866E11|\n",
      "|1735603200000|AdditionalPaidInC...|  AMZN|1.20864E11|\n",
      "|1735603200000|        CapitalStock|  AMZN|    1.11E8|\n",
      "+-------------+--------------------+------+----------+\n",
      "only showing top 20 rows\n"
     ]
    }
   ],
   "source": [
    "raw_df.show()"
   ]
  },
  {
   "cell_type": "code",
   "execution_count": 28,
   "metadata": {},
   "outputs": [
    {
     "data": {
      "text/html": [
       "<div>\n",
       "<style scoped>\n",
       "    .dataframe tbody tr th:only-of-type {\n",
       "        vertical-align: middle;\n",
       "    }\n",
       "\n",
       "    .dataframe tbody tr th {\n",
       "        vertical-align: top;\n",
       "    }\n",
       "\n",
       "    .dataframe thead th {\n",
       "        text-align: right;\n",
       "    }\n",
       "</style>\n",
       "<table border=\"1\" class=\"dataframe\">\n",
       "  <thead>\n",
       "    <tr style=\"text-align: right;\">\n",
       "      <th></th>\n",
       "      <th>metric</th>\n",
       "      <th>date</th>\n",
       "      <th>value</th>\n",
       "      <th>ticker</th>\n",
       "    </tr>\n",
       "  </thead>\n",
       "  <tbody>\n",
       "    <tr>\n",
       "      <th>0</th>\n",
       "      <td>TreasurySharesNumber</td>\n",
       "      <td>2024-12-31</td>\n",
       "      <td>5.150000e+08</td>\n",
       "      <td>AMZN</td>\n",
       "    </tr>\n",
       "    <tr>\n",
       "      <th>1</th>\n",
       "      <td>OrdinarySharesNumber</td>\n",
       "      <td>2024-12-31</td>\n",
       "      <td>1.059300e+10</td>\n",
       "      <td>AMZN</td>\n",
       "    </tr>\n",
       "    <tr>\n",
       "      <th>2</th>\n",
       "      <td>ShareIssued</td>\n",
       "      <td>2024-12-31</td>\n",
       "      <td>1.110800e+10</td>\n",
       "      <td>AMZN</td>\n",
       "    </tr>\n",
       "    <tr>\n",
       "      <th>3</th>\n",
       "      <td>NetDebt</td>\n",
       "      <td>2024-12-31</td>\n",
       "      <td>NaN</td>\n",
       "      <td>AMZN</td>\n",
       "    </tr>\n",
       "    <tr>\n",
       "      <th>4</th>\n",
       "      <td>TotalDebt</td>\n",
       "      <td>2024-12-31</td>\n",
       "      <td>1.309000e+11</td>\n",
       "      <td>AMZN</td>\n",
       "    </tr>\n",
       "    <tr>\n",
       "      <th>...</th>\n",
       "      <td>...</td>\n",
       "      <td>...</td>\n",
       "      <td>...</td>\n",
       "      <td>...</td>\n",
       "    </tr>\n",
       "    <tr>\n",
       "      <th>300</th>\n",
       "      <td>AllowanceForDoubtfulAccountsReceivable</td>\n",
       "      <td>2020-12-31</td>\n",
       "      <td>NaN</td>\n",
       "      <td>AMZN</td>\n",
       "    </tr>\n",
       "    <tr>\n",
       "      <th>301</th>\n",
       "      <td>GrossAccountsReceivable</td>\n",
       "      <td>2020-12-31</td>\n",
       "      <td>NaN</td>\n",
       "      <td>AMZN</td>\n",
       "    </tr>\n",
       "    <tr>\n",
       "      <th>302</th>\n",
       "      <td>CashCashEquivalentsAndShortTermInvestments</td>\n",
       "      <td>2020-12-31</td>\n",
       "      <td>NaN</td>\n",
       "      <td>AMZN</td>\n",
       "    </tr>\n",
       "    <tr>\n",
       "      <th>303</th>\n",
       "      <td>OtherShortTermInvestments</td>\n",
       "      <td>2020-12-31</td>\n",
       "      <td>NaN</td>\n",
       "      <td>AMZN</td>\n",
       "    </tr>\n",
       "    <tr>\n",
       "      <th>304</th>\n",
       "      <td>CashAndCashEquivalents</td>\n",
       "      <td>2020-12-31</td>\n",
       "      <td>NaN</td>\n",
       "      <td>AMZN</td>\n",
       "    </tr>\n",
       "  </tbody>\n",
       "</table>\n",
       "<p>305 rows × 4 columns</p>\n",
       "</div>"
      ],
      "text/plain": [
       "                                         metric       date         value  \\\n",
       "0                          TreasurySharesNumber 2024-12-31  5.150000e+08   \n",
       "1                          OrdinarySharesNumber 2024-12-31  1.059300e+10   \n",
       "2                                   ShareIssued 2024-12-31  1.110800e+10   \n",
       "3                                       NetDebt 2024-12-31           NaN   \n",
       "4                                     TotalDebt 2024-12-31  1.309000e+11   \n",
       "..                                          ...        ...           ...   \n",
       "300      AllowanceForDoubtfulAccountsReceivable 2020-12-31           NaN   \n",
       "301                     GrossAccountsReceivable 2020-12-31           NaN   \n",
       "302  CashCashEquivalentsAndShortTermInvestments 2020-12-31           NaN   \n",
       "303                   OtherShortTermInvestments 2020-12-31           NaN   \n",
       "304                      CashAndCashEquivalents 2020-12-31           NaN   \n",
       "\n",
       "    ticker  \n",
       "0     AMZN  \n",
       "1     AMZN  \n",
       "2     AMZN  \n",
       "3     AMZN  \n",
       "4     AMZN  \n",
       "..     ...  \n",
       "300   AMZN  \n",
       "301   AMZN  \n",
       "302   AMZN  \n",
       "303   AMZN  \n",
       "304   AMZN  \n",
       "\n",
       "[305 rows x 4 columns]"
      ]
     },
     "execution_count": 28,
     "metadata": {},
     "output_type": "execute_result"
    }
   ],
   "source": [
    "pd.read_json(f'{local_root}{bronze_path}/AMZN_balance_sheet_2025-10-17.json')"
   ]
  },
  {
   "cell_type": "code",
   "execution_count": 0,
   "metadata": {
    "application/vnd.databricks.v1+cell": {
     "cellMetadata": {
      "byteLimit": 2048000,
      "rowLimit": 10000
     },
     "inputWidgets": {},
     "nuid": "d8c0faff-d24c-4981-bdbf-6def11b6333c",
     "showTitle": false,
     "tableResultSettingsMap": {},
     "title": ""
    }
   },
   "outputs": [],
   "source": [
    "def unpivot_income_statement_pyspark():\n",
    "    files_path_to_unpivot = [f'{spark_bronze_root_path}/{f}' for f in os.listdir(bronze_root_path) if f.endswith('.json')]\n",
    "    for file_name in files_path_to_unpivot:\n",
    "        print(f'processing file {file_name} from bronze -> silver')\n",
    "        spark_df = spark.read.option('multiline', 'true').json(file_name)"
   ]
  },
  {
   "cell_type": "code",
   "execution_count": 0,
   "metadata": {
    "application/vnd.databricks.v1+cell": {
     "cellMetadata": {
      "byteLimit": 2048000,
      "rowLimit": 10000
     },
     "inputWidgets": {},
     "nuid": "e02fe8da-62cc-4cf2-82bd-60a1bc322c0d",
     "showTitle": false,
     "tableResultSettingsMap": {},
     "title": ""
    }
   },
   "outputs": [],
   "source": [
    "unpivot_income_statement_pyspark()"
   ]
  },
  {
   "cell_type": "code",
   "execution_count": 0,
   "metadata": {
    "application/vnd.databricks.v1+cell": {
     "cellMetadata": {
      "byteLimit": 2048000,
      "rowLimit": 10000
     },
     "inputWidgets": {},
     "nuid": "80cc5330-d4a0-4ed5-b4b0-60ceaf5644c8",
     "showTitle": false,
     "tableResultSettingsMap": {},
     "title": ""
    }
   },
   "outputs": [],
   "source": [
    "spark.read.json('dbfs:/FileStore/bronze/yahoo/AMZN_balance_sheet_2025-10-15.json').show()"
   ]
  },
  {
   "cell_type": "code",
   "execution_count": 0,
   "metadata": {
    "application/vnd.databricks.v1+cell": {
     "cellMetadata": {
      "byteLimit": 2048000,
      "rowLimit": 10000
     },
     "inputWidgets": {},
     "nuid": "af06ffc1-d847-4a68-8549-04939285118b",
     "showTitle": false,
     "tableResultSettingsMap": {},
     "title": ""
    }
   },
   "outputs": [],
   "source": [
    "# usage of spark tables to stores\n",
    "def unpivot_income_statement(bronze_path):\n",
    "    files_path_to_unpivot = [f for f in os.listdir(bronze_path) if f.endswith('.json')]\n",
    "    for file in files_path_to_unpivot:\n",
    "        print(f'processing file {file} from bronze -> silver')\n",
    "        df = pd.read_json(f'{bronze_root_path}/{file}')\n",
    "        unpivoted = df.\\\n",
    "            reset_index().\\\n",
    "            melt(id_vars='index', var_name='date', value_name='value').\\\n",
    "            rename(columns={'index':'metric'})\n",
    "        unpivoted.to"
   ]
  },
  {
   "cell_type": "code",
   "execution_count": 0,
   "metadata": {
    "application/vnd.databricks.v1+cell": {
     "cellMetadata": {
      "byteLimit": 2048000,
      "rowLimit": 10000
     },
     "inputWidgets": {},
     "nuid": "1a4550eb-27bb-448e-81ea-fe301ff59cb2",
     "showTitle": false,
     "tableResultSettingsMap": {},
     "title": ""
    }
   },
   "outputs": [],
   "source": [
    "unpivot_income_statement(bronze_root_path)"
   ]
  },
  {
   "cell_type": "code",
   "execution_count": 0,
   "metadata": {
    "application/vnd.databricks.v1+cell": {
     "cellMetadata": {
      "byteLimit": 2048000,
      "rowLimit": 10000
     },
     "inputWidgets": {},
     "nuid": "0844242b-672a-4b46-a109-20b744c98e50",
     "showTitle": false,
     "tableResultSettingsMap": {
      "0": {
       "dataGridStateBlob": "{\"version\":1,\"tableState\":{\"columnPinning\":{\"left\":[\"#row_number#\"],\"right\":[]},\"columnSizing\":{\"path\":206},\"columnVisibility\":{}},\"settings\":{\"columns\":{}},\"syncTimestamp\":1760527927306}",
       "filterBlob": null,
       "queryPlanFiltersBlob": null,
       "tableResultIndex": 0
      }
     },
     "title": ""
    }
   },
   "outputs": [],
   "source": [
    "%fs ls \"dbfs:/FileStore/bronze/yahoo\""
   ]
  }
 ],
 "metadata": {
  "application/vnd.databricks.v1+notebook": {
   "computePreferences": null,
   "dashboards": [],
   "environmentMetadata": null,
   "inputWidgetPreferences": null,
   "language": "python",
   "notebookMetadata": {
    "mostRecentlyExecutedCommandWithImplicitDF": {
     "commandId": 5117293961394131,
     "dataframes": [
      "_sqldf"
     ]
    },
    "pythonIndentUnit": 4
   },
   "notebookName": "yahoo_api_exploration",
   "widgets": {}
  },
  "kernelspec": {
   "display_name": "yahoo_env",
   "language": "python",
   "name": "python3"
  },
  "language_info": {
   "codemirror_mode": {
    "name": "ipython",
    "version": 3
   },
   "file_extension": ".py",
   "mimetype": "text/x-python",
   "name": "python",
   "nbconvert_exporter": "python",
   "pygments_lexer": "ipython3",
   "version": "3.10.9"
  }
 },
 "nbformat": 4,
 "nbformat_minor": 0
}
